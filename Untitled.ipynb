{
 "cells": [
  {
   "cell_type": "code",
   "execution_count": 1,
   "metadata": {},
   "outputs": [],
   "source": [
    "import sys\n",
    "sys.path.insert(0, r'pdfminer/tools/')\n",
    "sys.path.insert(0, r'pdfminer/samples/UG-Manual.pdf')"
   ]
  },
  {
   "cell_type": "code",
   "execution_count": 49,
   "metadata": {},
   "outputs": [
    {
     "data": {
      "text/plain": [
       "32512"
      ]
     },
     "execution_count": 49,
     "metadata": {},
     "output_type": "execute_result"
    }
   ],
   "source": [
    "os.system(\"pdfminer/tools/pdf2txt.py UG-Manual.pdf > ug_manual1.txt\")"
   ]
  },
  {
   "cell_type": "code",
   "execution_count": 6,
   "metadata": {},
   "outputs": [
    {
     "data": {
      "text/plain": [
       "32512"
      ]
     },
     "execution_count": 6,
     "metadata": {},
     "output_type": "execute_result"
    }
   ],
   "source": [
    "import os\n",
    "os.system(\"pdfminer/tools/pdf2txt.py \" + doc_name + \" > \" + data_name)"
   ]
  },
  {
   "cell_type": "code",
   "execution_count": 3,
   "metadata": {},
   "outputs": [],
   "source": [
    "doc_name = \"UG-Manual.pdf\"\n",
    "data_name = \"ug_manualsad4.txt\""
   ]
  },
  {
   "cell_type": "code",
   "execution_count": 1,
   "metadata": {},
   "outputs": [
    {
     "name": "stdout",
     "output_type": "stream",
     "text": [
      "['Introduction', 'Programmes of Study Programmes for New Students Admission through JEE', 'Programmes of Study Programmes for New Students Admission through JAM']\n",
      "['1', '2.1.1', '2.1.2']\n"
     ]
    }
   ],
   "source": [
    "from file2id import file2id\n",
    "from sim2id import sim2id\n",
    "\n",
    "index_list, sections = file2id('./docs/UG-Manual.txt')\n",
    "top_n_ids, ss = sim2id(3, './docs/UG-Manual.txt', sections, index_list, 'shanu')\n",
    "print(top_n_ids)\n"
   ]
  },
  {
   "cell_type": "code",
   "execution_count": 2,
   "metadata": {},
   "outputs": [
    {
     "data": {
      "text/plain": [
       "[0.0, 0.0, 0.0]"
      ]
     },
     "execution_count": 2,
     "metadata": {},
     "output_type": "execute_result"
    }
   ],
   "source": [
    "ss"
   ]
  },
  {
   "cell_type": "code",
   "execution_count": 12,
   "metadata": {},
   "outputs": [
    {
     "data": {
      "text/plain": [
       "[0.0,\n",
       " 0.0,\n",
       " 0.0,\n",
       " 0.0,\n",
       " 0.0,\n",
       " 0.0,\n",
       " 0.0,\n",
       " 0.0,\n",
       " 0.0,\n",
       " 0.0,\n",
       " 0.0,\n",
       " 0.0,\n",
       " 0.0,\n",
       " 0.0,\n",
       " 0.0,\n",
       " 0.0,\n",
       " 0.0,\n",
       " 0.0,\n",
       " 0.0,\n",
       " 0.0,\n",
       " 0.0,\n",
       " 0.0,\n",
       " 0.0,\n",
       " 0.0,\n",
       " 0.0,\n",
       " 0.0,\n",
       " 0.0,\n",
       " 0.0,\n",
       " 0.0,\n",
       " 0.0,\n",
       " 0.0,\n",
       " 0.0,\n",
       " 0.0,\n",
       " 0.0,\n",
       " 0.0,\n",
       " 0.0,\n",
       " 0.0,\n",
       " 0.0,\n",
       " 0.0,\n",
       " 0.0,\n",
       " 0.0,\n",
       " 0.0,\n",
       " 0.0,\n",
       " 0.0,\n",
       " 0.0,\n",
       " 0.0,\n",
       " 0.0,\n",
       " 0.0,\n",
       " 0.0,\n",
       " 0.0,\n",
       " 0.0,\n",
       " 0.0,\n",
       " 0.0,\n",
       " 0.0,\n",
       " 0.0,\n",
       " 0.0,\n",
       " 0.0,\n",
       " 0.0,\n",
       " 0.0,\n",
       " 0.0,\n",
       " 0.0,\n",
       " 0.0,\n",
       " 0.0,\n",
       " 0.0,\n",
       " 0.0,\n",
       " 0.0,\n",
       " 0.0,\n",
       " 0.0,\n",
       " 0.0,\n",
       " 0.0,\n",
       " 0.0,\n",
       " 0.0,\n",
       " 0.0,\n",
       " 0.0,\n",
       " 0.0,\n",
       " 0.0,\n",
       " 0.0,\n",
       " 0.0,\n",
       " 0.0,\n",
       " 0.0,\n",
       " 0.0,\n",
       " 0.0,\n",
       " 0.0,\n",
       " 0.0,\n",
       " 0.0,\n",
       " 0.0,\n",
       " 0.0,\n",
       " 0.0,\n",
       " 0.0,\n",
       " 0.0,\n",
       " 0.0,\n",
       " 0.0,\n",
       " 0.0,\n",
       " 0.0,\n",
       " 0.0,\n",
       " 0.0]"
      ]
     },
     "execution_count": 12,
     "metadata": {},
     "output_type": "execute_result"
    }
   ],
   "source": [
    "top_n"
   ]
  },
  {
   "cell_type": "code",
   "execution_count": 9,
   "metadata": {},
   "outputs": [
    {
     "data": {
      "text/plain": [
       "[(0, array([ 0.])),\n",
       " (1, array([ 0.])),\n",
       " (2, array([ 0.])),\n",
       " (3, array([ 0.])),\n",
       " (4, array([ 0.])),\n",
       " (5, array([ 0.])),\n",
       " (6, array([ 0.])),\n",
       " (7, array([ 0.])),\n",
       " (8, array([ 0.])),\n",
       " (9, array([ 0.])),\n",
       " (10, array([ 0.])),\n",
       " (11, array([ 0.])),\n",
       " (12, array([ 0.])),\n",
       " (13, array([ 0.])),\n",
       " (14, array([ 0.])),\n",
       " (15, array([ 0.])),\n",
       " (16, array([ 0.])),\n",
       " (17, array([ 0.])),\n",
       " (18, array([ 0.])),\n",
       " (19, array([ 0.])),\n",
       " (20, array([ 0.])),\n",
       " (21, array([ 0.])),\n",
       " (22, array([ 0.])),\n",
       " (23, array([ 0.])),\n",
       " (24, array([ 0.])),\n",
       " (25, array([ 0.])),\n",
       " (26, array([ 0.])),\n",
       " (27, array([ 0.])),\n",
       " (28, array([ 0.])),\n",
       " (29, array([ 0.])),\n",
       " (30, array([ 0.])),\n",
       " (31, array([ 0.])),\n",
       " (32, array([ 0.])),\n",
       " (33, array([ 0.])),\n",
       " (34, array([ 0.])),\n",
       " (35, array([ 0.])),\n",
       " (36, array([ 0.])),\n",
       " (37, array([ 0.])),\n",
       " (38, array([ 0.])),\n",
       " (39, array([ 0.])),\n",
       " (40, array([ 0.])),\n",
       " (41, array([ 0.])),\n",
       " (42, array([ 0.])),\n",
       " (43, array([ 0.])),\n",
       " (44, array([ 0.])),\n",
       " (45, array([ 0.])),\n",
       " (46, array([ 0.])),\n",
       " (47, array([ 0.])),\n",
       " (48, array([ 0.])),\n",
       " (49, array([ 0.])),\n",
       " (50, array([ 0.])),\n",
       " (51, array([ 0.])),\n",
       " (52, array([ 0.])),\n",
       " (53, array([ 0.])),\n",
       " (54, array([ 0.])),\n",
       " (55, array([ 0.])),\n",
       " (56, array([ 0.])),\n",
       " (57, array([ 0.])),\n",
       " (58, array([ 0.])),\n",
       " (59, array([ 0.])),\n",
       " (60, array([ 0.])),\n",
       " (61, array([ 0.])),\n",
       " (62, array([ 0.])),\n",
       " (63, array([ 0.])),\n",
       " (64, array([ 0.])),\n",
       " (65, array([ 0.])),\n",
       " (66, array([ 0.])),\n",
       " (67, array([ 0.])),\n",
       " (68, array([ 0.])),\n",
       " (69, array([ 0.])),\n",
       " (70, array([ 0.])),\n",
       " (71, array([ 0.])),\n",
       " (72, array([ 0.])),\n",
       " (73, array([ 0.])),\n",
       " (74, array([ 0.])),\n",
       " (75, array([ 0.])),\n",
       " (76, array([ 0.])),\n",
       " (77, array([ 0.])),\n",
       " (78, array([ 0.])),\n",
       " (79, array([ 0.])),\n",
       " (80, array([ 0.])),\n",
       " (81, array([ 0.])),\n",
       " (82, array([ 0.])),\n",
       " (83, array([ 0.])),\n",
       " (84, array([ 0.])),\n",
       " (85, array([ 0.])),\n",
       " (86, array([ 0.])),\n",
       " (87, array([ 0.])),\n",
       " (88, array([ 0.])),\n",
       " (89, array([ 0.])),\n",
       " (90, array([ 0.])),\n",
       " (91, array([ 0.])),\n",
       " (92, array([ 0.])),\n",
       " (93, array([ 0.])),\n",
       " (94, array([ 0.])),\n",
       " (95, array([ 0.]))]"
      ]
     },
     "execution_count": 9,
     "metadata": {},
     "output_type": "execute_result"
    }
   ],
   "source": [
    "sorted(enumerate(ss), key=lambda x:x[1], reverse=True)"
   ]
  },
  {
   "cell_type": "code",
   "execution_count": null,
   "metadata": {},
   "outputs": [],
   "source": []
  }
 ],
 "metadata": {
  "kernelspec": {
   "display_name": "Python 3",
   "language": "python",
   "name": "python3"
  },
  "language_info": {
   "codemirror_mode": {
    "name": "ipython",
    "version": 3
   },
   "file_extension": ".py",
   "mimetype": "text/x-python",
   "name": "python",
   "nbconvert_exporter": "python",
   "pygments_lexer": "ipython3",
   "version": "3.5.3"
  }
 },
 "nbformat": 4,
 "nbformat_minor": 2
}
