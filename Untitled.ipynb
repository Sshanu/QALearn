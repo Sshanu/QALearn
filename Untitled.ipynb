{
 "cells": [
  {
   "cell_type": "code",
   "execution_count": 1,
   "metadata": {},
   "outputs": [],
   "source": [
    "from file2id import file2id\n",
    "from sim2id import sim2id\n",
    "import pickle as pkl"
   ]
  },
  {
   "cell_type": "code",
   "execution_count": 2,
   "metadata": {},
   "outputs": [
    {
     "name": "stdout",
     "output_type": "stream",
     "text": [
      "<_sre.SRE_Match object; span=(17, 35), match='\\n\\n1 decision trees'>\n",
      "<_sre.SRE_Match object; span=(0, 23), match='\\n\\n\\n2 limits of learning'>\n",
      "<_sre.SRE_Match object; span=(0, 36), match='\\n\\n\\n\\n3 geometry and nearest neighbors'>\n",
      "<_sre.SRE_Match object; span=(0, 19), match='\\n\\n\\n4 the perceptron'>\n",
      "<_sre.SRE_Match object; span=(0, 20), match='\\n\\n5 practical issues'>\n",
      "<_sre.SRE_Match object; span=(0, 33), match='\\n\\n\\n6 beyond binary classification'>\n",
      "<_sre.SRE_Match object; span=(0, 18), match='\\n\\n\\n7 linear models'>\n",
      "<_sre.SRE_Match object; span=(0, 21), match='\\n\\n8 bias and fairness'>\n",
      "<_sre.SRE_Match object; span=(0, 27), match='\\n\\n\\n9 probabilistic modeling'>\n",
      "<_sre.SRE_Match object; span=(0, 20), match='\\n\\n10 neural networks'>\n",
      "<_sre.SRE_Match object; span=(0, 19), match='\\n\\n11 kernel methods'>\n",
      "<_sre.SRE_Match object; span=(0, 20), match='\\n\\n12 learning theory'>\n",
      "<_sre.SRE_Match object; span=(0, 22), match='\\n\\n13\\n\\nensemble methods'>\n",
      "<_sre.SRE_Match object; span=(0, 24), match='\\n\\n14\\n\\nefficient learning'>\n",
      "<_sre.SRE_Match object; span=(0, 26), match='\\n\\n15 unsupervised learning'>\n",
      "<_sre.SRE_Match object; span=(0, 30), match='\\n\\n16\\n\\nexpectation maximization'>\n",
      "<_sre.SRE_Match object; span=(0, 28), match='\\n\\n\\n17\\n\\nstructured prediction'>\n",
      "<_sre.SRE_Match object; span=(0, 24), match='\\n\\n18\\n\\nimitation learning'>\n",
      "<_sre.SRE_Match object; span=(16548, 16580), match=' 18 (out of 20) correctly. thus,'>\n",
      "['1', '2', '3', '4', '5', '6', '7', '8', '9', '10', '11', '12', '13', '14', '15', '16', '17', '18']\n",
      "['decision trees', 'limits of learning', 'geometry and nearest neighbors', 'the perceptron', 'practical issues', 'beyond binary classification', 'linear models', 'bias and fairness', 'probabilistic modeling', 'neural networks', 'kernel methods', 'learning theory', 'ensemble methods', 'efficient learning', 'unsupervised learning', 'expectation maximization', 'structured prediction', 'imitation learning']\n",
      "[['decision trees', 'decision trees', '1'], ['limits of learning', 'limits of learning', '2'], ['geometry and nearest neighbors', 'geometry and nearest neighbors', '3'], ['the perceptron', 'the perceptron', '4'], ['practical issues', 'practical issues', '5'], ['beyond binary classification', 'beyond binary classification', '6'], ['linear models', 'linear models', '7'], ['bias and fairness', 'bias and fairness', '8'], ['probabilistic modeling', 'probabilistic modeling', '9'], ['neural networks', 'neural networks', '10'], ['kernel methods', 'kernel methods', '11'], ['learning theory', 'learning theory', '12'], ['ensemble methods', 'ensemble methods', '13'], ['efficient learning', 'efficient learning', '14'], ['unsupervised learning', 'unsupervised learning', '15'], ['expectation maximization', 'expectation maximization', '16'], ['structured prediction', 'structured prediction', '17'], ['imitation learning', 'imitation learning', '18']]\n",
      "pass 0\n",
      "pass 1\n",
      "pass 2\n",
      "pass 3\n",
      "pass 4\n",
      "pass 5\n",
      "pass 6\n",
      "pass 7\n",
      "pass 8\n",
      "pass 9\n",
      "pass 10\n",
      "pass 11\n",
      "pass 12\n",
      "pass 13\n",
      "pass 14\n",
      "pass 15\n",
      "pass 16\n"
     ]
    }
   ],
   "source": [
    "index_list, sections, flag = file2id(\"qalearn/media/txt/A_Course_in_Machine_Learning.txt\")"
   ]
  },
  {
   "cell_type": "code",
   "execution_count": null,
   "metadata": {},
   "outputs": [],
   "source": [
    "f = open(\"qalearn/media/data/A_Course_in_Machine_Learning\" + doc_name, \"wb\")\n",
    "pkl.dump([index_list, sections], f)\n",
    "f.close()"
   ]
  }
 ],
 "metadata": {
  "kernelspec": {
   "display_name": "Python 3",
   "language": "python",
   "name": "python3"
  },
  "language_info": {
   "codemirror_mode": {
    "name": "ipython",
    "version": 3
   },
   "file_extension": ".py",
   "mimetype": "text/x-python",
   "name": "python",
   "nbconvert_exporter": "python",
   "pygments_lexer": "ipython3",
   "version": "3.5.3"
  }
 },
 "nbformat": 4,
 "nbformat_minor": 2
}
