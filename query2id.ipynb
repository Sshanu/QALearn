{
 "cells": [
  {
   "cell_type": "code",
   "execution_count": 141,
   "metadata": {},
   "outputs": [],
   "source": [
    "import numpy as np\n",
    "import re, string\n",
    "import pickle\n",
    "from nltk.corpus import stopwords\n",
    "from sklearn.feature_extraction.text import TfidfVectorizer\n",
    "from sklearn.metrics.pairwise import cosine_similarity\n",
    "# from gensim.models import Word2Vec"
   ]
  },
  {
   "cell_type": "code",
   "execution_count": 10,
   "metadata": {},
   "outputs": [],
   "source": []
  },
  {
   "cell_type": "code",
   "execution_count": 3,
   "metadata": {},
   "outputs": [],
   "source": [
    "# def query2id(text_file_loc):\n",
    "\n",
    "with open('ug1.txt', 'r') as f:\n",
    "    test_str = f.read()\n",
    "\n",
    "# retrieving indexes\n",
    "regex = r\"((\\d{1,2})[\\d.]*) ([^}].+)\"\n",
    "matches = re.finditer(regex, test_str)\n",
    "contents = []\n",
    "ids = []\n",
    "parents = []\n",
    "count = 0\n",
    "last = None\n",
    "for matchNum, match in enumerate(matches):\n",
    "    matchNum = matchNum + 1\n",
    "\n",
    "    id = match.group(1)\n",
    "    if(id in ids):\n",
    "        break\n",
    "\n",
    "    count = max(count, int(match.group(2)))\n",
    "    contents.append(match.group(3))\n",
    "    parents.append(match.group(2))\n",
    "    ids.append(id)\n",
    "    last = match.end(3) "
   ]
  },
  {
   "cell_type": "code",
   "execution_count": 76,
   "metadata": {},
   "outputs": [],
   "source": [
    "regex = \"[.…]{2,}\\s*\\d*\"\n",
    "for i,c in enumerate(contents):\n",
    "    contents[i] = re.sub(regex, \"\", c)"
   ]
  },
  {
   "cell_type": "code",
   "execution_count": 12,
   "metadata": {},
   "outputs": [],
   "source": [
    "for i,c in enumerate(contents):\n",
    "     contents[i]  = \" \".join(c.split())"
   ]
  },
  {
   "cell_type": "code",
   "execution_count": 16,
   "metadata": {},
   "outputs": [],
   "source": [
    "# Graph Class\n",
    "class Graph:\n",
    "\n",
    "    def __init__(self,v):\n",
    "        self.graph = [list() for i in range(v)]\n",
    "\n",
    "    def addEdge(self,u,v):\n",
    "        self.graph[u].append(v)\n",
    "\n",
    "    def DFSUtil(self, v, visited,res,ans):\n",
    "        visited[v]= True\n",
    "        res.append(contents[v])\n",
    "        #print(v)\n",
    "        count=0\n",
    "        for i in self.graph[v]:\n",
    "            count+=1\n",
    "            if visited[i] == False:\n",
    "                self.DFSUtil(i, visited,res,ans)\n",
    "        if count==0:\n",
    "            final_res=[' '.join(res),res[-1],ind2id[v]]\n",
    "            #print(final_res)\n",
    "            ans.append(final_res)\n",
    "        res.pop()    \n",
    "\n",
    "    def DFS(self):\n",
    "        res=[]\n",
    "        ans=[]\n",
    "        V = len(self.graph) \n",
    "        visited =V*[False]\n",
    "        for i in range(V):\n",
    "            if visited[i] == False:\n",
    "                self.DFSUtil(i, visited,res,ans)\n",
    "                res=[]\n",
    "\n",
    "        return ans"
   ]
  },
  {
   "cell_type": "code",
   "execution_count": 17,
   "metadata": {},
   "outputs": [],
   "source": [
    "id2ind = dict([(w,i) for i,w in enumerate(ids)])\n",
    "ind2id = dict([(i,w) for i,w in enumerate(ids)])\n",
    "nodes=[]\n",
    "for it in contents:\n",
    "    nodes.append(it.split())\n",
    "parents=[int(i) for i in parents]\n",
    "g=Graph(len(ids))\n",
    "for i in ids:\n",
    "    if i not in [str(i) for i in set(parents)]:\n",
    "        g.addEdge(id2ind['.'.join(i.split('.')[:-1])],id2ind[i])\n",
    "\n",
    "index_list = g.DFS()\n"
   ]
  },
  {
   "cell_type": "code",
   "execution_count": 24,
   "metadata": {},
   "outputs": [],
   "source": [
    "final_str = test_str[last:]"
   ]
  },
  {
   "cell_type": "code",
   "execution_count": null,
   "metadata": {},
   "outputs": [],
   "source": [
    "def "
   ]
  },
  {
   "cell_type": "code",
   "execution_count": 135,
   "metadata": {},
   "outputs": [],
   "source": [
    "regex = \"(\" + index_list[0][2] + \")\"  + \"?\\s*\" + index_list[0][1] \n",
    "match  = re.search(regex, final_str)\n",
    "start = match.start()\n",
    "sections = []\n",
    "for i in range(len(index_list)-1):\n",
    "    \n",
    "#     regex = \"\\s*(\" + index_list[i+1][2] + \")\"  + \"\\s*\" \n",
    "#     match  = re.search(regex, final_str)\n",
    "#     end = match.start()\n",
    "    try:\n",
    "        regex = \"(\" + index_list[i+1][2] + \")\"  + \"\\s*\" + index_list[i+1][1] \n",
    "        match  = re.search(regex, final_str)\n",
    "        end = match.start()\n",
    "    except AttributeError:\n",
    "        try:\n",
    "            regex = \"(\" + index_list[i+1][2] + \")\"  + \"\\s*\"\n",
    "            match  = re.search(regex, final_str)\n",
    "            end = match.start()\n",
    "        except AttributeError:\n",
    "            try:\n",
    "                regex = \"(\" + index_list[i+1][1]  + \")\"  + \"\\s*\" \n",
    "                match  = re.search(regex, final_str)\n",
    "                end = match.start()\n",
    "            except AttributeError:\n",
    "                print(\"error, i\")\n",
    "        \n",
    "    if(end>start):\n",
    "        sections.append(final_str[start:end])\n",
    "    else:            \n",
    "        print(\"error\", i, start, end)\n",
    "        \n",
    "    start = end\n",
    "#     print(i, start, end)\n",
    "    \n",
    "    "
   ]
  },
  {
   "cell_type": "code",
   "execution_count": 140,
   "metadata": {},
   "outputs": [
    {
     "name": "stdout",
     "output_type": "stream",
     "text": [
      "1 \n",
      " \n",
      "\n",
      "Introduction \n",
      "\n",
      " \n",
      "The objectives of the undergraduate (UG) programmes at IIT Kanpur are: \n",
      " \n",
      "\n",
      "• \n",
      "\n",
      "• \n",
      "\n",
      "• \n",
      "\n",
      "• \n",
      "\n",
      "To provide the highest level of education in technology and science, and to produce competent, creative, and \n",
      "imaginative engineers and scientists \n",
      "To promote a spirit of free and objective enquiry, and development of knowledge in different disciplines \n",
      "To produce highly skilled technologists and scientists with well-honed managerial and entrepreneurial skills having \n",
      "team spirit and leadership qualities \n",
      "To increase student participation in nation building through technology development that is sensitive to local needs \n",
      "\n",
      " \n",
      "This  manual  sets  out  the  procedures  and  requirements  of  the  undergraduate  programmes  of  study  that  fall  under  the \n",
      "purview of the Senate Under-Graduate Committee (SUGC), which include B Tech, BS, MSc, Double Major, and Dual Degree \n",
      "programmes.  Following  are  the  committees  and  administrative  units  in  the  institute  that  are  directly  concerned  with  the \n",
      "above programmes: \n",
      " \n",
      "Departmental Undergraduate Committee (DUGC):  Each academic department constitutes this committee which consists of \n",
      "a  Convener  nominated  by  the  Head  of  the  department  (in  consultation  with  the  faculty  of  the  department),  Head  of  the \n",
      "department,  four  to  eight  members  of  the  faculty,  and  two  student  representatives.    The  student  representatives  are \n",
      "nominated by the undergraduate students of the department for a one-year period.  The tenure of faculty members is two \n",
      "years, with half of them retiring each year (as decided by the procedure adopted by the department). The DUGC: \n",
      "\n",
      "•  Advises the students about their curriculum \n",
      "•  Advises them about academic opportunities \n",
      "•  Monitors the progress of academically weak students \n",
      "•  Handles any problem faced by students in their academic programmes \n",
      "\n",
      " \n",
      "Senate Undergraduate Committee (SUGC):   This is a  standing committee formed by  the Senate to look after all the issues \n",
      "regarding  institute-wide  UG  programmes.  It  makes  recommendations  to  the  senate  on  all  academic  issues  including  policy \n",
      "matters  and  specific  problem  instances  related  to  UG  students  and  UG  programmes.  Its  constituents  are  the  conveners  of \n",
      "various  DUGCs,  PUGCs  (Programme  Under  Graduate  Conveners)  where  applicable,  last  SUGC  chairperson  (ex-officio),  one \n",
      "Senate  nominee,  and  four  student  representatives  nominated  by  Student  Senate.  The  chairperson  is  elected  by  the \n",
      "constituent  members.  The  SUGC  constitutes  two  subcommittees,  namely,  Academic  Performance  Evaluation  Committee \n",
      "(APEC)  and  Core  Curriculum  Committee  (CCC).    The  chairpersons  of  these  subcommittees  are  nominated  by  the  SUGC \n",
      "chairperson,  and  they,  in  turn,  constitute  their  five-member  committees  from  the  faculty  members  of  the  SUGC  in \n",
      "consultation  with  SUGC  chairperson.    The  CCC  coordinates  and  oversees  various  facets  of  the  core  curriculum.    The  APEC \n",
      "evaluates the academic performance of undergraduate students at the end of each semester and makes recommendations \n",
      "regarding  their  further  Programme  of  studies  and  action  to  be  taken  in  the  case  of  academically  deficient  students.    Both \n",
      "these subcommittees make their recommendations to the SUGC. \n",
      " \n",
      " \n",
      "\n",
      "5 \n",
      "\n",
      " \n",
      "\n",
      "\f",
      "Chapter 2 \n",
      " \n",
      "\n",
      "Programmes of Study \n",
      "\n",
      " \n",
      "2.1 Programmes for New Students \n",
      " \n",
      "\n"
     ]
    }
   ],
   "source": [
    "print(sections[0])"
   ]
  },
  {
   "cell_type": "code",
   "execution_count": 11,
   "metadata": {},
   "outputs": [],
   "source": [
    "def top_idf(n, raw_text_file, index_list, query):\n",
    "    \n",
    "    with open(raw_text_file, 'r') as f:\n",
    "        text = f.readlines()\n",
    "    \n",
    "    vectorizer = TfidfVectorizer(stop_words='english')\n",
    "    vectorizer.fit(text)\n",
    "    \n",
    "    titles = [i[0] for i in index_list]\n",
    "    \n",
    "    titles_vector = vectorizer.transform(titles)\n",
    "    titles_arr = titles_vector.toarray()\n",
    "\n",
    "    query_vector = vectorizer.transform([query])\n",
    "    query_arr = query_vector.toarray()\n",
    "\n",
    "    sim_mat = cosine_similarity(titles_arr, query_arr)\n",
    "    top_n = [i[0] for i in sorted(enumerate(sim_mat), key=lambda x:x[1], reverse=True)][:n]\n",
    "    top_n_ids = [index_list[top_n[i]][2] for i in range(n)]    \n",
    "    top_n_titles = [index_list[top_n[i]][0] for i in range(n)]\n",
    "    top_n_sim = [sim_mat[top_n[i]][0] for i in range(n)]\n",
    "    print(top_n_sim)\n",
    "    print(top_n_ids)\n",
    "    print(top_n_titles)\n",
    "    \n",
    "    return top_n_ids"
   ]
  },
  {
   "cell_type": "code",
   "execution_count": 17,
   "metadata": {},
   "outputs": [
    {
     "name": "stdout",
     "output_type": "stream",
     "text": [
      "[0.12703265055075788, 0.10850426730133642, 0.0]\n",
      "['6.1.4', '7.1.2', '1']\n",
      "['Registration Academic Registration Cancellation of Registration in a Course', 'Teaching and Evaluation Teaching Offering a New Course', 'Introduction']\n"
     ]
    }
   ],
   "source": [
    "top_n_ids = top_idf(3, './docs/UG-Manual.txt', index_list, 'when would i fail in a course')"
   ]
  },
  {
   "cell_type": "code",
   "execution_count": 18,
   "metadata": {},
   "outputs": [],
   "source": [
    "with open('./docs/UG-Manual.txt', 'r') as f:\n",
    "    text = f.read()"
   ]
  },
  {
   "cell_type": "code",
   "execution_count": null,
   "metadata": {},
   "outputs": [],
   "source": []
  }
 ],
 "metadata": {
  "kernelspec": {
   "display_name": "Python 3",
   "language": "python",
   "name": "python3"
  },
  "language_info": {
   "codemirror_mode": {
    "name": "ipython",
    "version": 3
   },
   "file_extension": ".py",
   "mimetype": "text/x-python",
   "name": "python",
   "nbconvert_exporter": "python",
   "pygments_lexer": "ipython3",
   "version": "3.5.3"
  }
 },
 "nbformat": 4,
 "nbformat_minor": 2
}
