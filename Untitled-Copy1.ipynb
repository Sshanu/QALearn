{
 "cells": [
  {
   "cell_type": "code",
   "execution_count": 1,
   "metadata": {},
   "outputs": [],
   "source": [
    "import os"
   ]
  },
  {
   "cell_type": "code",
   "execution_count": 8,
   "metadata": {},
   "outputs": [
    {
     "data": {
      "text/plain": [
       "0"
      ]
     },
     "execution_count": 8,
     "metadata": {},
     "output_type": "execute_result"
    }
   ],
   "source": [
    "os.system(\"pdfminer/tools/pdf2txt.py \" + \"docs/pdfs/02.pdf\" +  \" > \" + \"02\" + \".txt\")\n"
   ]
  },
  {
   "cell_type": "code",
   "execution_count": 9,
   "metadata": {},
   "outputs": [
    {
     "data": {
      "text/plain": [
       "0"
      ]
     },
     "execution_count": 9,
     "metadata": {},
     "output_type": "execute_result"
    }
   ],
   "source": [
    "os.system(\"pdfminer/tools/pdf2txt.py \" + \"docs/pdfs/03.pdf\" +  \" > \" + \"03\" + \".txt\")\n",
    "os.system(\"pdfminer/tools/pdf2txt.py \" + \"docs/pdfs/04.pdf\" +  \" > \" + \"04\" + \".txt\")\n",
    "os.system(\"pdfminer/tools/pdf2txt.py \" + \"docs/pdfs/05.pdf\" +  \" > \" + \"05\" + \".txt\")\n"
   ]
  },
  {
   "cell_type": "code",
   "execution_count": 4,
   "metadata": {},
   "outputs": [],
   "source": [
    "pdfs = ['content.pdf', '01.pdf', '02.pdf', '03.pdf', '04.pdf', '05.pdf']"
   ]
  },
  {
   "cell_type": "code",
   "execution_count": 1,
   "metadata": {},
   "outputs": [],
   "source": [
    "from PyPDF2 import PdfFileMerger"
   ]
  },
  {
   "cell_type": "code",
   "execution_count": 5,
   "metadata": {},
   "outputs": [
    {
     "name": "stderr",
     "output_type": "stream",
     "text": [
      "PdfReadWarning: Xref table not zero-indexed. ID numbers for objects will be corrected. [pdf.py:1736]\n"
     ]
    }
   ],
   "source": [
    "merger = PdfFileMerger()\n",
    "\n",
    "for pdf in pdfs:\n",
    "    merger.append(open(\"docs/pdfs/\" + pdf, 'rb'))\n",
    "\n",
    "with open('result.pdf', 'wb') as fout:\n",
    "    merger.write(fout)"
   ]
  },
  {
   "cell_type": "code",
   "execution_count": null,
   "metadata": {},
   "outputs": [],
   "source": []
  },
  {
   "cell_type": "code",
   "execution_count": 1,
   "metadata": {},
   "outputs": [],
   "source": [
    "from file2id import file2id\n",
    "from sim2id import sim2id\n",
    "import pickle as pkl"
   ]
  },
  {
   "cell_type": "code",
   "execution_count": 2,
   "metadata": {},
   "outputs": [
    {
     "name": "stdout",
     "output_type": "stream",
     "text": [
      "<_sre.SRE_Match object; span=(18, 49), match='\\n\\n1 reproduction  in  organisms'>\n",
      "<_sre.SRE_Match object; span=(0, 27), match='\\n\\n1.1  asexual reproduction'>\n",
      "<_sre.SRE_Match object; span=(0, 24), match='\\n1.2 sexual reproduction'>\n",
      "<_sre.SRE_Match object; span=(0, 31), match='\\n1.2.1 pre-fertilisation events'>\n",
      "<_sre.SRE_Match object; span=(0, 23), match='\\n\\n1.2.1.1 gametogenesis'>\n",
      "<_sre.SRE_Match object; span=(0, 24), match='\\n1.2.1.2 gamete transfer'>\n",
      "<_sre.SRE_Match object; span=(0, 20), match='\\n1.2.2 fertilisation'>\n",
      "<_sre.SRE_Match object; span=(0, 33), match='\\n\\n1.2.3 post-fertilisation events'>\n",
      "<_sre.SRE_Match object; span=(0, 19), match='\\n1.2.3.1 the zygote'>\n",
      "<_sre.SRE_Match object; span=(0, 23), match='\\n1.2.3.2  embryogenesis'>\n",
      "<_sre.SRE_Match object; span=(0, 49), match='\\n\\n\\n\\n2 sexual  reproduction  in  flowering  pl>\n",
      "<_sre.SRE_Match object; span=(0, 37), match='\\n\\n2.1 flower – a fascinating organ of'>\n",
      "<_sre.SRE_Match object; span=(0, 45), match='\\n2.2 pre-fertilisation: structures and events'>\n",
      "<_sre.SRE_Match object; span=(0, 47), match='\\n2.2.1 stamen, microsporangium and pollen grain'>\n",
      "<_sre.SRE_Match object; span=(0, 56), match='\\n2.2.2 the pistil, megasporangium (ovule) and em>\n",
      "<_sre.SRE_Match object; span=(0, 18), match='\\n2.2.3 pollination'>\n",
      "<_sre.SRE_Match object; span=(0, 26), match='\\n\\n2.3 double fertilisation'>\n",
      "<_sre.SRE_Match object; span=(0, 49), match='\\n\\n2.4  post-fertilisation : structures and even>\n",
      "<_sre.SRE_Match object; span=(0, 16), match='\\n2.4.1 endosperm'>\n",
      "<_sre.SRE_Match object; span=(0, 13), match='\\n2.4.2 embryo'>\n",
      "<_sre.SRE_Match object; span=(0, 11), match='\\n2.4.3 seed'>\n",
      "<_sre.SRE_Match object; span=(0, 32), match='\\n\\n2.5  apomixis and polyembryony'>\n",
      "<_sre.SRE_Match object; span=(0, 25), match='\\n\\n\\n3  human  reproduction'>\n",
      "<_sre.SRE_Match object; span=(0, 34), match='\\n\\n3.1 the male reproductive system'>\n",
      "<_sre.SRE_Match object; span=(0, 35), match='\\n3.2 the female reproductive system'>\n",
      "<_sre.SRE_Match object; span=(0, 18), match='\\n3.3 gametogenesis'>\n",
      "<_sre.SRE_Match object; span=(0, 20), match='\\n3.4 menstrual cycle'>\n",
      "<_sre.SRE_Match object; span=(0, 35), match='\\n3.5 fertilisation and implantation'>\n",
      "<_sre.SRE_Match object; span=(0, 40), match='\\n3.6 pregnancy and embryonic development'>\n",
      "<_sre.SRE_Match object; span=(0, 30), match='\\n3.7 parturition and lactation'>\n",
      "<_sre.SRE_Match object; span=(0, 26), match='\\n\\n\\n4  reproductive  health'>\n",
      "<_sre.SRE_Match object; span=(0, 51), match='\\n\\n4.1 reproductive health – problems and strate>\n",
      "<_sre.SRE_Match object; span=(0, 43), match='\\n4.2 population explosion and birth control'>\n",
      "<_sre.SRE_Match object; span=(0, 43), match='\\n4.3 medical termination of pregnancy (mtp)'>\n",
      "<_sre.SRE_Match object; span=(0, 41), match='\\n4.4 sexually transmitted diseases (stds)'>\n",
      "<_sre.SRE_Match object; span=(0, 16), match='\\n4.5 infertility'>\n",
      "<_sre.SRE_Match object; span=(0, 48), match='\\n\\n5  principles  of  inheritance  and  variatio>\n",
      "<_sre.SRE_Match object; span=(0, 34), match='\\n5.1 mendel’s laws of inheritance '>\n",
      "<_sre.SRE_Match object; span=(0, 28), match='\\n5.2 inheritance of one gene'>\n",
      "<_sre.SRE_Match object; span=(0, 23), match='\\n5.2.1 law of dominance'>\n",
      "<_sre.SRE_Match object; span=(0, 25), match='\\n5.2.2 law of segregation'>\n",
      "<_sre.SRE_Match object; span=(0, 29), match='\\n5.2.2.1 incomplete dominance'>\n",
      "<_sre.SRE_Match object; span=(0, 22), match='\\n5.2.2.2  co-dominance'>\n",
      "<_sre.SRE_Match object; span=(0, 29), match='\\n5.3 inheritance of two genes'>\n",
      "<_sre.SRE_Match object; span=(0, 36), match='\\n5.3.1 law of independent assortment'>\n",
      "<_sre.SRE_Match object; span=(0, 40), match='\\n5.3.2 chromosomal theory of inheritance'>\n",
      "<_sre.SRE_Match object; span=(0, 32), match='\\n5.3.3 linkage and recombination'>\n",
      "<_sre.SRE_Match object; span=(0, 22), match='\\n5.4 sex determination'>\n",
      "<_sre.SRE_Match object; span=(0, 34), match='\\n5.4.1 sex determination in humans'>\n",
      "<_sre.SRE_Match object; span=(0, 13), match='\\n5.5 mutation'>\n",
      "<_sre.SRE_Match object; span=(0, 22), match='\\n5.6 genetic disorders'>\n",
      "<_sre.SRE_Match object; span=(0, 24), match='\\n5.6.1 pedigree analysis'>\n",
      "<_sre.SRE_Match object; span=(0, 26), match='\\n5.6.2 mendelian disorders'>\n",
      "<_sre.SRE_Match object; span=(0, 28), match='\\n5.6.3 chromosomal disorders'>\n",
      "<_sre.SRE_Match object; span=(4258, 4335), match=' 5\\n(principles of inheritance and variation) how>\n",
      "['1', '1.1', '1.2', '1.2.1', '1.2.1.1', '1.2.1.2', '1.2.2', '1.2.3', '1.2.3.1', '1.2.3.2', '2', '2.1', '2.2', '2.2.1', '2.2.2', '2.2.3', '2.3', '2.4', '2.4.1', '2.4.2', '2.4.3', '2.5', '3', '3.1', '3.2', '3.3', '3.4', '3.5', '3.6', '3.7', '4', '4.1', '4.2', '4.3', '4.4', '4.5', '5', '5.1', '5.2', '5.2.1', '5.2.2', '5.2.2.1', '5.2.2.2', '5.3', '5.3.1', '5.3.2', '5.3.3', '5.4', '5.4.1', '5.5', '5.6', '5.6.1', '5.6.2', '5.6.3']\n",
      "len 1.1 10077\n",
      "pass 0\n",
      "len 1.2.1.1 4389\n",
      "pass 1\n",
      "len 1.2.1.2 1863\n",
      "pass 2\n",
      "len 1.2.2 2299\n",
      "pass 3\n",
      "len 1.2.3.1 1112\n",
      "pass 4\n",
      "len 1.2.3.2 7354\n",
      "pass 5\n",
      "len 2.1 1744\n",
      "pass 6\n",
      "len 2.2.1 6982\n",
      "pass 7\n",
      "len 2.2.2 4988\n",
      "pass 8\n",
      "len 2.2.3 14895\n",
      "pass 9\n",
      "len 2.3 1305\n",
      "pass 10\n",
      "len 2.4.1 1299\n",
      "pass 11\n",
      "len 2.4.2 1726\n",
      "pass 12\n",
      "len 2.4.3 5444\n",
      "pass 13\n",
      "len 2.5 8288\n",
      "pass 14\n",
      "len 3.1 2924\n",
      "pass 15\n",
      "len 3.2 3975\n",
      "pass 16\n",
      "len 3.3 5408\n",
      "pass 17\n",
      "len 3.4 2737\n",
      "pass 18\n",
      "len 3.5 3383\n",
      "pass 19\n",
      "len 3.6 2838\n",
      "pass 20\n",
      "len 3.7 7991\n",
      "pass 21\n",
      "len 4.1 3754\n",
      "pass 22\n",
      "len 4.2 6645\n",
      "pass 23\n",
      "len 4.3 800\n",
      "pass 24\n",
      "len 4.4 5482\n",
      "pass 25\n",
      "len 4.5 11422\n",
      "pass 26\n",
      "len 5.1 11482\n",
      "pass 27\n",
      "len 5.2.1 1023\n",
      "pass 28\n",
      "len 5.2.2.1 2875\n",
      "pass 29\n",
      "len 5.2.2.2 4683\n",
      "pass 30\n",
      "len 5.3.1 2367\n",
      "pass 31\n",
      "len 5.3.2 4447\n",
      "pass 32\n",
      "len 5.3.3 6216\n",
      "pass 33\n",
      "len 5.4.1 1506\n",
      "pass 34\n",
      "len 5.5 1259\n",
      "pass 35\n",
      "len 5.6.1 1596\n",
      "pass 36\n",
      "len 5.6.2 4019\n",
      "pass 37\n",
      "len 5.6.3 8322\n"
     ]
    }
   ],
   "source": [
    "index_list, sections, flag = file2id(\"docs/NCERT-Class-12-Biology.txt\")"
   ]
  },
  {
   "cell_type": "code",
   "execution_count": 3,
   "metadata": {},
   "outputs": [],
   "source": [
    "f = open(\"qalearn/media/data/NCERT-Class-12-Biology\", \"wb\")\n",
    "pkl.dump([index_list, sections], f)\n",
    "f.close()"
   ]
  },
  {
   "cell_type": "code",
   "execution_count": 3,
   "metadata": {},
   "outputs": [
    {
     "data": {
      "text/plain": [
       "'chromosomal disorders\\nthe chromosomal disorders on the other hand are caused due to absence\\nor excess or abnormal arrangement of one or more chromosomes. failure of segregation of chromatids during cell division cycle results\\nin the gain or loss of a chromosome(s), called aneuploidy. for example,\\ndown’s syndrome results in the gain of extra copy of chromosome 21.\\nsimilarly, turner’s syndrome results due to loss of an x chromosome in\\nhuman females. failure of cytokinesis after telophase stage of cell division\\nresults in an increase in a whole set of chromosomes in an organism and, flat back of head\\nmany “loops” on\\nfinger tips palm crease broad flat face big and wrinkled\\ntongue congenital heart\\ndisease 90 figure 5.16 a representative figure showing an individual inflicted with down’s syndrome and the corresponding chromosomes of the individual principles of inheritance and variation this phenomenon is known as polyploidy. this\\ncondition is often seen in plants. the total number of chromosome of a normal\\nhuman being is 46 (23 pairs). out of these 22\\npairs are autosomes and one pair of\\nchromosomes are sex chromosome.\\nsometimes, though rarely, either an\\nadditional copy of a chromosome may be\\nincluded in an individual or an individual may\\nlack one of any one pair of chromosomes.\\nthese situations are known as trisomy or\\nmonosomy of a chromosome, respectively.\\nsuch a situation leads to very serious\\nconsequences in the individual. down’s\\nsyndrome, turner’s syndrome, klinefelter’s\\nsyndrome are common examples of\\nchromosomal disorders. down’s syndrome : the cause of this genetic\\ndisorder is the presence of an additional copy\\nof the chromosome number 21 (trisomy of 21).\\nthis disorder was first described by langdon\\ndown (1866). the affected individual is short\\nstatured with small round head, furrowed\\ntongue and partially open mouth (figure 5.16).\\npalm is broad with characteristic palm crease.\\nphysical, psychomotor and mental development\\nis retarded. klinefelter’s syndrome : this genetic\\ndisorder is also caused due to the presence of\\nan additional copy of x-chromosome resulting\\ninto a karyotype of 47, xxy. such an\\nindividual has overall masculine development\\n, however, the feminine development\\n(development of breast, i.e., gynaecomastia)\\nis also expressed (figure 5.17 a). such\\nindividuals are sterile. turner’s syndrome : such a disorder is\\ncaused due to the absence of one of the x\\nchromosomes, i.e., 45 with x0, such females\\nare sterile as ovaries are rudimentary besides\\nother features including lack of other secondary\\nsexual characters (figure 5.17 b). (b) (a) tall stature with feminised character short stature and\\nunderdeveloped feminine character figure 5.17 diagrammatic represe-\\nntation of genetic disorders due to sex\\nchromosome composition in humans :\\n(a) klinefelter syndrome; (b) turner’s\\nsyndrome 91 biology summary genetics is a branch of biology which deals with principles of inheritance\\nand its practices. progeny resembling the parents in morphological and\\nphysiologycal features has attracted the attention of many biologists.\\nmendel was the first to study this phenomenon systematically. while\\nstudying the pattern of inheritance in pea plants of contrasting\\ncharacters, mendel proposed the principles of inheritance, which are\\ntoday referred to as ‘mendel’s laws of inheritance’. he proposed that\\nthe ‘factors’ (later named as genes) regulating the characters are found\\nin pairs known as alleles. he observed that the expression of the\\ncharacters in the offspring follow a definite pattern in different–first\\ngenerations (f1), second (f2) and so on. some characters are dominant\\nover others. the dominant characters are expressed when factors are\\nin heterozygous condition (law of dominance). the recessive characters\\nare only expressed in homozygous conditions. the characters never\\nblend in heterozygous condition. a recessive character that was not\\nexpressed in heterozygous conditon may expressed again when it\\nbecomes homozygous. hence, characters segregate while formation of\\ngametes (law of segregation). not all characters show true dominance. some characters show\\nincomplete, and some show co-dominance. when mendel studied the\\ninheritance of two characters together, it was found that the factors\\nindependently assort and combine in all permutations and\\ncombinations (law of independent assortment). different combinations\\nof gametes are theoretically represented in a square tabular form known\\nas ‘punnett square’. the factors (now known as gene) on chromosomes\\nregulating the characters are called the genotype and the physical\\nexpression of the chraracters is called phenotype. after knowing that the genes are located on the chromosomes, a\\ngood correlation was drawn between mendal’s laws : segregation and\\nassortment of chromosomes during meiosis. the mendel’s laws were\\nextended in the form of ‘chromosomal theory of inheritance’. later, it\\nwas found that mendel’s law of independent assortment does not hold\\ntrue for the genes that were located on the same chromosomes. these\\ngenes were called as ‘linked genes’. closely located genes assorted\\ntogether, and distantly located genes, due to recombination, assorted\\nindependently. linkage maps, therefore, corresponded to arrangement\\nof genes on a chromosome. many genes were linked to sexes also, and called as sex-linked\\ngenes. the two sexes (male and female) were found to have a set of\\nchromosomes which were common, and another set which was\\ndifferent. the chromosomes which were different in two sexes were\\nnamed as sex chromosomes. the remaining set was named as\\nautosomes. in humans, a normal female has 22 pairs of autosomes 92 principles of inheritance and variation and a pair of sex chromosomes (xx). a male has 22 pairs of autosomes\\nand a pair of sex chromosome as xy. in chicken, sex chromosomes in\\nmale are zz, and in females are zw. mutation is defined as change in the genetic material. a point\\nmutation is a change of a single base pair in dna. sickle-cell anemia is\\ncaused due to change of one base in the gene coding for beta-chain of\\nhemoglobin. inheritable mutations can be studied by generating a\\npedigree of a family. some mutations involve changes in whole set of\\nchromosomes (polyploidy) or change in a subset of chromosome number\\n(aneuploidy). this helped in understanding the mutational basis of\\ngenetic disorders. down’s syndrome is due to trisomy of chromosome 21,\\nwhere there is an extra copy of chromosome 21 and consequently the\\ntotal number of chromosome becomes 47. in turner’s syndrome, one x\\nchromosome is missing and the sex chromosome is as xo, and in\\nklinefelter’s syndrome, the condition is xxy. these can be easily studied\\nby analysis of karyotypes. exercises 1. mention the advantages of selecting pea plant for experiment by mendel. 2. differentiate between the following – (a) dominance and recessive (b) homozygous and hetrozygous (c) monohybrid and dihybrid. 3. a diploid organism is heterozygous for 4 loci, how many types of gametes can be produced? 4. explain the law of dominance using a monohybrid cross. 5. define and design a test-cross. 6. using a punnett square, workout the distribution of phenotypic features\\nin the first filial generation after a cross between a homozygous female\\nand a heterozygous male for a single locus. 7. when a cross in made between tall plant with yellow seeds (ttyy) and\\ntall plant with green seed (ttyy), what proportions of phenotype in the\\noffspring could be expected to be (a) tall and green. (b) dwarf and green. 93 biology 8. two heterozygous parents are crossed. if the two loci are linked what\\nwould be the distribution of phenotypic features in f1 generation for a\\ndibybrid cross? 9. briefly mention the contribution of t.h. morgan in genetics. 10. what is pedigree analysis? suggest how such an analysis, can be useful. 11. how is sex determined in human beings? 12. a child has blood group o. if the father has blood group a and mother\\nblood group b, work out the genotypes of the parents and the possible\\ngenotypes of the other offsprings. 13. explain the following terms with example (a) co-dominance (b) incomplete dominance 14. what is point mutation? give one example. 15. who had proposed the chromosomal theory of the inheritance? 16. mention any two autosomal genetic disorders with their symptoms. 94 '"
      ]
     },
     "execution_count": 3,
     "metadata": {},
     "output_type": "execute_result"
    }
   ],
   "source": [
    "sections[-1]"
   ]
  },
  {
   "cell_type": "code",
   "execution_count": null,
   "metadata": {},
   "outputs": [],
   "source": []
  }
 ],
 "metadata": {
  "kernelspec": {
   "display_name": "Python 3",
   "language": "python",
   "name": "python3"
  },
  "language_info": {
   "codemirror_mode": {
    "name": "ipython",
    "version": 3
   },
   "file_extension": ".py",
   "mimetype": "text/x-python",
   "name": "python",
   "nbconvert_exporter": "python",
   "pygments_lexer": "ipython3",
   "version": "3.5.3"
  }
 },
 "nbformat": 4,
 "nbformat_minor": 2
}
