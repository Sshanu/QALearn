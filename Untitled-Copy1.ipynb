{
 "cells": [
  {
   "cell_type": "code",
   "execution_count": 1,
   "metadata": {},
   "outputs": [],
   "source": [
    "import os"
   ]
  },
  {
   "cell_type": "code",
   "execution_count": 8,
   "metadata": {},
   "outputs": [
    {
     "data": {
      "text/plain": [
       "0"
      ]
     },
     "execution_count": 8,
     "metadata": {},
     "output_type": "execute_result"
    }
   ],
   "source": [
    "os.system(\"pdfminer/tools/pdf2txt.py \" + \"docs/pdfs/02.pdf\" +  \" > \" + \"02\" + \".txt\")\n"
   ]
  },
  {
   "cell_type": "code",
   "execution_count": 9,
   "metadata": {},
   "outputs": [
    {
     "data": {
      "text/plain": [
       "0"
      ]
     },
     "execution_count": 9,
     "metadata": {},
     "output_type": "execute_result"
    }
   ],
   "source": [
    "os.system(\"pdfminer/tools/pdf2txt.py \" + \"docs/pdfs/03.pdf\" +  \" > \" + \"03\" + \".txt\")\n",
    "os.system(\"pdfminer/tools/pdf2txt.py \" + \"docs/pdfs/04.pdf\" +  \" > \" + \"04\" + \".txt\")\n",
    "os.system(\"pdfminer/tools/pdf2txt.py \" + \"docs/pdfs/05.pdf\" +  \" > \" + \"05\" + \".txt\")\n"
   ]
  },
  {
   "cell_type": "code",
   "execution_count": 4,
   "metadata": {},
   "outputs": [],
   "source": [
    "pdfs = ['content.pdf', '01.pdf', '02.pdf', '03.pdf', '04.pdf', '05.pdf']"
   ]
  },
  {
   "cell_type": "code",
   "execution_count": 1,
   "metadata": {},
   "outputs": [],
   "source": [
    "from PyPDF2 import PdfFileMerger"
   ]
  },
  {
   "cell_type": "code",
   "execution_count": 5,
   "metadata": {},
   "outputs": [
    {
     "name": "stderr",
     "output_type": "stream",
     "text": [
      "PdfReadWarning: Xref table not zero-indexed. ID numbers for objects will be corrected. [pdf.py:1736]\n"
     ]
    }
   ],
   "source": [
    "merger = PdfFileMerger()\n",
    "\n",
    "for pdf in pdfs:\n",
    "    merger.append(open(\"docs/pdfs/\" + pdf, 'rb'))\n",
    "\n",
    "with open('result.pdf', 'wb') as fout:\n",
    "    merger.write(fout)"
   ]
  },
  {
   "cell_type": "code",
   "execution_count": null,
   "metadata": {},
   "outputs": [],
   "source": []
  },
  {
   "cell_type": "code",
   "execution_count": 7,
   "metadata": {},
   "outputs": [],
   "source": [
    "from file2id import file2id\n",
    "from sim2id import sim2id\n",
    "import pickle as pkl"
   ]
  },
  {
   "cell_type": "code",
   "execution_count": 8,
   "metadata": {},
   "outputs": [
    {
     "name": "stdout",
     "output_type": "stream",
     "text": [
      "<_sre.SRE_Match object; span=(18, 49), match='\\n\\n1 reproduction  in  organisms'>\n",
      "<_sre.SRE_Match object; span=(0, 27), match='\\n\\n1.1  asexual reproduction'>\n",
      "<_sre.SRE_Match object; span=(0, 24), match='\\n1.2 sexual reproduction'>\n",
      "<_sre.SRE_Match object; span=(0, 31), match='\\n1.2.1 pre-fertilisation events'>\n",
      "<_sre.SRE_Match object; span=(0, 23), match='\\n\\n1.2.1.1 gametogenesis'>\n",
      "<_sre.SRE_Match object; span=(0, 24), match='\\n1.2.1.2 gamete transfer'>\n",
      "<_sre.SRE_Match object; span=(0, 20), match='\\n1.2.2 fertilisation'>\n",
      "<_sre.SRE_Match object; span=(0, 33), match='\\n\\n1.2.3 post-fertilisation events'>\n",
      "<_sre.SRE_Match object; span=(0, 19), match='\\n1.2.3.1 the zygote'>\n",
      "<_sre.SRE_Match object; span=(0, 23), match='\\n1.2.3.2  embryogenesis'>\n",
      "<_sre.SRE_Match object; span=(0, 49), match='\\n\\n\\n\\n2 sexual  reproduction  in  flowering  pl>\n",
      "<_sre.SRE_Match object; span=(0, 37), match='\\n\\n2.1 flower – a fascinating organ of'>\n",
      "<_sre.SRE_Match object; span=(0, 45), match='\\n2.2 pre-fertilisation: structures and events'>\n",
      "<_sre.SRE_Match object; span=(0, 47), match='\\n2.2.1 stamen, microsporangium and pollen grain'>\n",
      "<_sre.SRE_Match object; span=(0, 56), match='\\n2.2.2 the pistil, megasporangium (ovule) and em>\n",
      "<_sre.SRE_Match object; span=(0, 18), match='\\n2.2.3 pollination'>\n",
      "<_sre.SRE_Match object; span=(0, 26), match='\\n\\n2.3 double fertilisation'>\n",
      "<_sre.SRE_Match object; span=(0, 49), match='\\n\\n2.4  post-fertilisation : structures and even>\n",
      "<_sre.SRE_Match object; span=(0, 16), match='\\n2.4.1 endosperm'>\n",
      "<_sre.SRE_Match object; span=(0, 13), match='\\n2.4.2 embryo'>\n",
      "<_sre.SRE_Match object; span=(0, 11), match='\\n2.4.3 seed'>\n",
      "<_sre.SRE_Match object; span=(0, 32), match='\\n\\n2.5  apomixis and polyembryony'>\n",
      "<_sre.SRE_Match object; span=(0, 25), match='\\n\\n\\n3  human  reproduction'>\n",
      "<_sre.SRE_Match object; span=(0, 34), match='\\n\\n3.1 the male reproductive system'>\n",
      "<_sre.SRE_Match object; span=(0, 35), match='\\n3.2 the female reproductive system'>\n",
      "<_sre.SRE_Match object; span=(0, 18), match='\\n3.3 gametogenesis'>\n",
      "<_sre.SRE_Match object; span=(0, 20), match='\\n3.4 menstrual cycle'>\n",
      "<_sre.SRE_Match object; span=(0, 35), match='\\n3.5 fertilisation and implantation'>\n",
      "<_sre.SRE_Match object; span=(0, 40), match='\\n3.6 pregnancy and embryonic development'>\n",
      "<_sre.SRE_Match object; span=(0, 30), match='\\n3.7 parturition and lactation'>\n",
      "<_sre.SRE_Match object; span=(0, 26), match='\\n\\n\\n4  reproductive  health'>\n",
      "<_sre.SRE_Match object; span=(0, 51), match='\\n\\n4.1 reproductive health – problems and strate>\n",
      "<_sre.SRE_Match object; span=(0, 43), match='\\n4.2 population explosion and birth control'>\n",
      "<_sre.SRE_Match object; span=(0, 43), match='\\n4.3 medical termination of pregnancy (mtp)'>\n",
      "<_sre.SRE_Match object; span=(0, 41), match='\\n4.4 sexually transmitted diseases (stds)'>\n",
      "<_sre.SRE_Match object; span=(0, 16), match='\\n4.5 infertility'>\n",
      "<_sre.SRE_Match object; span=(0, 48), match='\\n\\n5  principles  of  inheritance  and  variatio>\n",
      "<_sre.SRE_Match object; span=(0, 34), match='\\n5.1 mendel’s laws of inheritance '>\n",
      "<_sre.SRE_Match object; span=(0, 28), match='\\n5.2 inheritance of one gene'>\n",
      "<_sre.SRE_Match object; span=(0, 23), match='\\n5.2.1 law of dominance'>\n",
      "<_sre.SRE_Match object; span=(0, 25), match='\\n5.2.2 law of segregation'>\n",
      "<_sre.SRE_Match object; span=(0, 29), match='\\n5.2.2.1 incomplete dominance'>\n",
      "<_sre.SRE_Match object; span=(0, 22), match='\\n5.2.2.2  co-dominance'>\n",
      "<_sre.SRE_Match object; span=(0, 29), match='\\n5.3 inheritance of two genes'>\n",
      "<_sre.SRE_Match object; span=(0, 36), match='\\n5.3.1 law of independent assortment'>\n",
      "<_sre.SRE_Match object; span=(0, 40), match='\\n5.3.2 chromosomal theory of inheritance'>\n",
      "<_sre.SRE_Match object; span=(0, 32), match='\\n5.3.3 linkage and recombination'>\n",
      "<_sre.SRE_Match object; span=(0, 22), match='\\n5.4 sex determination'>\n",
      "<_sre.SRE_Match object; span=(0, 34), match='\\n5.4.1 sex determination in humans'>\n",
      "<_sre.SRE_Match object; span=(0, 13), match='\\n5.5 mutation'>\n",
      "<_sre.SRE_Match object; span=(0, 22), match='\\n5.6 genetic disorders'>\n",
      "<_sre.SRE_Match object; span=(0, 24), match='\\n5.6.1 pedigree analysis'>\n",
      "<_sre.SRE_Match object; span=(0, 26), match='\\n5.6.2 mendelian disorders'>\n",
      "<_sre.SRE_Match object; span=(0, 28), match='\\n5.6.3 chromosomal disorders'>\n",
      "<_sre.SRE_Match object; span=(4258, 4335), match=' 5\\n(principles of inheritance and variation) how>\n",
      "['1', '1.1', '1.2', '1.2.1', '1.2.1.1', '1.2.1.2', '1.2.2', '1.2.3', '1.2.3.1', '1.2.3.2', '2', '2.1', '2.2', '2.2.1', '2.2.2', '2.2.3', '2.3', '2.4', '2.4.1', '2.4.2', '2.4.3', '2.5', '3', '3.1', '3.2', '3.3', '3.4', '3.5', '3.6', '3.7', '4', '4.1', '4.2', '4.3', '4.4', '4.5', '5', '5.1', '5.2', '5.2.1', '5.2.2', '5.2.2.1', '5.2.2.2', '5.3', '5.3.1', '5.3.2', '5.3.3', '5.4', '5.4.1', '5.5', '5.6', '5.6.1', '5.6.2', '5.6.3']\n",
      "len 1.1 9998\n",
      "pass 0\n",
      "len 1.2.1.1 4368\n",
      "pass 1\n",
      "len 1.2.1.2 1840\n",
      "pass 2\n",
      "len 1.2.2 2248\n",
      "pass 3\n",
      "len 1.2.3.1 1094\n",
      "pass 4\n",
      "len 1.2.3.2 7333\n",
      "pass 5\n",
      "len 2.1 1664\n",
      "pass 6\n",
      "len 2.2.1 6936\n",
      "pass 7\n",
      "len 2.2.2 4988\n",
      "pass 8\n",
      "len 2.2.3 14878\n",
      "pass 9\n",
      "len 2.3 1234\n",
      "pass 10\n",
      "len 2.4.1 1284\n",
      "pass 11\n",
      "len 2.4.2 1714\n",
      "pass 12\n",
      "len 2.4.3 5434\n",
      "pass 13\n",
      "len 2.5 8238\n",
      "pass 14\n",
      "len 3.1 2892\n",
      "pass 15\n",
      "len 3.2 3941\n",
      "pass 16\n",
      "len 3.3 5391\n",
      "pass 17\n",
      "len 3.4 2718\n",
      "pass 18\n",
      "len 3.5 3349\n",
      "pass 19\n",
      "len 3.6 2799\n",
      "pass 20\n",
      "len 3.7 7940\n",
      "pass 21\n",
      "len 4.1 3705\n",
      "pass 22\n",
      "len 4.2 6603\n",
      "pass 23\n",
      "len 4.3 800\n",
      "pass 24\n",
      "len 4.4 5482\n",
      "pass 25\n",
      "len 4.5 11407\n",
      "pass 26\n",
      "len 5.1 11422\n",
      "pass 27\n",
      "len 5.2.1 976\n",
      "pass 28\n",
      "len 5.2.2.1 2847\n",
      "pass 29\n",
      "len 5.2.2.2 4634\n",
      "pass 30\n",
      "len 5.3.1 2332\n",
      "pass 31\n",
      "len 5.3.2 4408\n",
      "pass 32\n",
      "len 5.3.3 6163\n",
      "pass 33\n",
      "len 5.4.1 1473\n",
      "pass 34\n",
      "len 5.5 1225\n",
      "pass 35\n",
      "len 5.6.1 1573\n",
      "pass 36\n",
      "len 5.6.2 3994\n",
      "pass 37\n",
      "len 5.6.3 8322\n"
     ]
    }
   ],
   "source": [
    "index_list, sections, flag = file2id(\"content.txt\")"
   ]
  },
  {
   "cell_type": "code",
   "execution_count": 9,
   "metadata": {},
   "outputs": [],
   "source": [
    "f = open(\"qalearn/media/data/NCERT-Class-12-Biology\", \"wb\")\n",
    "pkl.dump([index_list, sections], f)\n",
    "f.close()"
   ]
  },
  {
   "cell_type": "code",
   "execution_count": null,
   "metadata": {},
   "outputs": [],
   "source": []
  }
 ],
 "metadata": {
  "kernelspec": {
   "display_name": "Python 3",
   "language": "python",
   "name": "python3"
  },
  "language_info": {
   "codemirror_mode": {
    "name": "ipython",
    "version": 3
   },
   "file_extension": ".py",
   "mimetype": "text/x-python",
   "name": "python",
   "nbconvert_exporter": "python",
   "pygments_lexer": "ipython3",
   "version": "3.5.3"
  }
 },
 "nbformat": 4,
 "nbformat_minor": 2
}
