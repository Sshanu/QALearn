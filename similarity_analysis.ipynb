{
 "cells": [
  {
   "cell_type": "code",
   "execution_count": 1,
   "metadata": {},
   "outputs": [],
   "source": [
    "import numpy as np\n",
    "import re, string\n",
    "import pickle\n",
    "from nltk.corpus import stopwords\n",
    "from sklearn.feature_extraction.text import TfidfVectorizer\n",
    "from sklearn.metrics.pairwise import cosine_similarity\n",
    "from gensim.models import Word2Vec"
   ]
  },
  {
   "cell_type": "code",
   "execution_count": 3,
   "metadata": {},
   "outputs": [],
   "source": [
    "with open('index_sim1.txt', 'r') as f:\n",
    "    index_list = f.readlines()\n",
    "with open('./docs/UG-Manual.txt', 'r') as f:\n",
    "    text = f.readlines()"
   ]
  },
  {
   "cell_type": "code",
   "execution_count": 4,
   "metadata": {},
   "outputs": [],
   "source": [
    "index_map = []\n",
    "for index in index_list:\n",
    "    title = re.match(r'([\\d\\.\\s]*)(.*)', index).groups()[1]\n",
    "    index_no = index.split()[0]\n",
    "    index_map.append({'id':index_no, 'title':title})"
   ]
  },
  {
   "cell_type": "code",
   "execution_count": 8,
   "metadata": {},
   "outputs": [
    {
     "data": {
      "text/plain": [
       "{'id': '2.1.1',\n",
       " 'title': 'Programmes of Study Programmes for New Students Admission through JEE'}"
      ]
     },
     "execution_count": 8,
     "metadata": {},
     "output_type": "execute_result"
    }
   ],
   "source": [
    "index_map[1]"
   ]
  },
  {
   "cell_type": "code",
   "execution_count": null,
   "metadata": {},
   "outputs": [],
   "source": [
    "def top_idf(n, raw_text_file, index_map, query):\n",
    "    \n",
    "    with open(raw_text_file, 'r') as f:\n",
    "        text = f.readlines()\n",
    "    \n",
    "    vectorizer = TfidfVectorizer(stop_words='english')\n",
    "    vectorizer.fit(text)\n",
    "    \n",
    "    titles = [dict_['title'] for dict_ in index_map]\n",
    "    \n",
    "    titles_vector = vectorizer.transform(titles)\n",
    "    titles_arr = titles_vector.toarray()\n",
    "\n",
    "    query_vector = vectorizer.transform([query])\n",
    "    query_arr = query_vector.toarray()\n",
    "\n",
    "    sim_mat = cosine_similarity(titles_arr, query_arr)\n",
    "    top_n = [i[0] for i in sorted(enumerate(sim_mat), key=lambda x:x[1], reverse=True)][:n]\n",
    "    top_n_ids = [index_map[top_n[i]]['id'] for i in range(n)]    \n",
    "    top_n_titles = [index_map[top_n[i]]['title'] for i in range(n)]\n",
    "    top_n_sim = [sim_mat[top_n[i]][0] for i in range(n)]\n",
    "    print(top_n_sim)\n",
    "    print(top_n_ids)\n",
    "    print(top_n_titles)\n",
    "    \n",
    "    return top_n_ids"
   ]
  },
  {
   "cell_type": "code",
   "execution_count": null,
   "metadata": {},
   "outputs": [],
   "source": [
    "top_idf(3, './index_sim1.txt', index_map, 'maximum no of credits in a semester')"
   ]
  },
  {
   "cell_type": "code",
   "execution_count": null,
   "metadata": {},
   "outputs": [],
   "source": [
    "with open('/home/robsr/Study/6_sem/cs671/ass2/word2vec/vocab_wiki', 'rb') as f:\n",
    "    w2v_vocab = pickle.load(f)\n",
    "\n",
    "with open('/home/robsr/Study/6_sem/cs671/ass2/word2vec/word_embd_wiki', 'rb') as f:\n",
    "    w2v_emb = pickle.load(f)"
   ]
  },
  {
   "cell_type": "code",
   "execution_count": null,
   "metadata": {},
   "outputs": [],
   "source": [
    "w2v_map = dict(zip(w2v_vocab, w2v_emb[0]))"
   ]
  },
  {
   "cell_type": "code",
   "execution_count": null,
   "metadata": {},
   "outputs": [],
   "source": [
    "def prepro_words(data):\n",
    "    ques_str = data\n",
    "    ques_str = re.sub(\"'\\w+\",'', ques_str)\n",
    "\n",
    "    for char in string.punctuation:\n",
    "        ques_str = ques_str.replace(char, '')\n",
    "\n",
    "    words = re.findall(\"[^\\s]+\", ques_str)\n",
    "    stopWords = set(stopwords.words('english'))\n",
    "    wordsFiltered = []\n",
    "    for w in words:\n",
    "        if w not in stopWords:\n",
    "            wordsFiltered.append(w)\n",
    "    return wordsFiltered"
   ]
  },
  {
   "cell_type": "code",
   "execution_count": null,
   "metadata": {},
   "outputs": [],
   "source": [
    "prepro_words('can i change my branch in iitk ?')"
   ]
  },
  {
   "cell_type": "code",
   "execution_count": null,
   "metadata": {},
   "outputs": [],
   "source": [
    "def weighted_emb_string(list_):\n",
    "    "
   ]
  },
  {
   "cell_type": "code",
   "execution_count": null,
   "metadata": {},
   "outputs": [],
   "source": [
    "def word2vec(n, raw_text_file, emb_map, index_map, query):\n",
    "    \n",
    "    with open(raw_text_file, 'r') as f:\n",
    "        text = f.readlines()\n",
    "    \n",
    "    vectorizer = TfidfVectorizer(stop_words='english')\n",
    "    vectorizer.fit(text)\n",
    "    \n",
    "#     query_words = prepro_words(query)\n",
    "    raw_vocab = vectorizer.vocabulary_.keys()    "
   ]
  },
  {
   "cell_type": "code",
   "execution_count": null,
   "metadata": {},
   "outputs": [],
   "source": [
    "from sklearn.feature_extraction.text import TfidfVectorizer\n",
    "# list of text documents\n",
    "text = [\"The quick brown fox jumped over the lazy dog.\",\"The dog.\",\n",
    "\t\t\"The fox\"]\n",
    "# create the transform\n",
    "vectorizer = TfidfVectorizer()\n",
    "# tokenize and build vocab\n",
    "vectorizer.fit(text)\n",
    "# summarize\n",
    "print(vectorizer.vocabulary_)\n",
    "print(vectorizer.vocabulary_.keys())\n",
    "print(vectorizer.idf_)\n",
    "# encode document\n",
    "vector = vectorizer.transform([text[0]])\n",
    "# summarize encoded vector\n",
    "print(vector.shape)\n",
    "print(vector.toarray())"
   ]
  },
  {
   "cell_type": "code",
   "execution_count": null,
   "metadata": {},
   "outputs": [],
   "source": [
    "sentences = index_list\n",
    "model = Word2Vec(sentences, workers=4)"
   ]
  },
  {
   "cell_type": "code",
   "execution_count": null,
   "metadata": {},
   "outputs": [],
   "source": [
    "words = list(model.wv.vocab)\n",
    "print(words)"
   ]
  },
  {
   "cell_type": "code",
   "execution_count": null,
   "metadata": {},
   "outputs": [],
   "source": []
  }
 ],
 "metadata": {
  "kernelspec": {
   "display_name": "Python 3",
   "language": "python",
   "name": "python3"
  },
  "language_info": {
   "codemirror_mode": {
    "name": "ipython",
    "version": 3
   },
   "file_extension": ".py",
   "mimetype": "text/x-python",
   "name": "python",
   "nbconvert_exporter": "python",
   "pygments_lexer": "ipython3",
   "version": "3.6.4"
  }
 },
 "nbformat": 4,
 "nbformat_minor": 2
}
